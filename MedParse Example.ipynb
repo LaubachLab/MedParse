{
 "cells": [
  {
   "cell_type": "markdown",
   "metadata": {},
   "source": [
    "# MedParse\n",
    "\n",
    "MedParse is a set of functions (module) that allows the user to access saved variables from a MedPC file.\n",
    "<br><br>\n",
    "It is important that the MedPC file follows the template provided and that the med_to_tec.py and file is in the same path as the script you are working on. \n",
    "\n",
    "Within the MedPC file, your data should look similar to the following:"
   ]
  },
  {
   "cell_type": "markdown",
   "metadata": {},
   "source": [
    "File: C:\\MED-PC IV\\DATA\\ExampleFile1 <br>\n",
    "<br>\n",
    "<br>\n",
    "Start Date: 09/17/15 <br>\n",
    "End Date: 09/17/15 <br>\n",
    "Subject: EX01 <br>\n",
    "Experiment: MedParse Ex <br>\n",
    "Group: 2 <br>\n",
    "Box: 4 <br>\n",
    "Start Time: 14:23:08 <br>\n",
    "End Time: 15:23:16 <br>\n",
    "MSN: MedParseEX <br>\n",
    "\n",
    "C:  &nbsp;&nbsp;&nbsp;&nbsp;&nbsp;&nbsp;&nbsp;&nbsp;&nbsp;&nbsp;&nbsp;&nbsp;&nbsp;     0.000 <br>\n",
    "D:  &nbsp;&nbsp;&nbsp;&nbsp;&nbsp;&nbsp;&nbsp;&nbsp;&nbsp;&nbsp;&nbsp;          60.000 <br>\n",
    "E:  &nbsp;&nbsp;&nbsp;&nbsp;&nbsp;&nbsp;&nbsp;&nbsp;&nbsp;&nbsp;&nbsp;          69.000 <br>\n",
    "F:  &nbsp;&nbsp;&nbsp;&nbsp;&nbsp;&nbsp;&nbsp;&nbsp;&nbsp;&nbsp;&nbsp;          56.000 <br>\n",
    "G:  &nbsp;&nbsp;&nbsp;&nbsp;&nbsp;&nbsp;                                1447.000 <br>\n",
    "H:  &nbsp;&nbsp;&nbsp;&nbsp;&nbsp;&nbsp;&nbsp;&nbsp;&nbsp;&nbsp;&nbsp;&nbsp;   0.000 <br>\n",
    "I:  &nbsp;&nbsp;&nbsp;&nbsp;&nbsp;&nbsp;&nbsp;&nbsp;&nbsp;&nbsp;&nbsp;&nbsp;&nbsp;&nbsp; 0.000 <br>\n",
    "J:  &nbsp;&nbsp;&nbsp;&nbsp;&nbsp;&nbsp;&nbsp;&nbsp;&nbsp;&nbsp;&nbsp;&nbsp;&nbsp; 0.000 <br>\n",
    "K:  &nbsp;&nbsp;&nbsp;&nbsp;&nbsp;&nbsp;&nbsp;&nbsp;&nbsp;&nbsp;&nbsp;&nbsp;  0.000 <br>\n",
    "L:  &nbsp;&nbsp;&nbsp;&nbsp;&nbsp;&nbsp;&nbsp;&nbsp;&nbsp;&nbsp;&nbsp;&nbsp; 0.000 <br>\n",
    "M:  &nbsp;&nbsp;&nbsp;&nbsp;&nbsp;&nbsp;&nbsp;&nbsp;&nbsp;&nbsp;&nbsp;&nbsp; 0.000 <br>\n",
    "N:  &nbsp;&nbsp;&nbsp;&nbsp;&nbsp;&nbsp;&nbsp;&nbsp;&nbsp;&nbsp;&nbsp;&nbsp;  0.000 <br>\n",
    "O:  &nbsp;&nbsp;&nbsp;&nbsp;&nbsp;&nbsp;&nbsp;&nbsp;&nbsp;&nbsp;&nbsp;&nbsp;  0.000 <br>\n",
    "P:  &nbsp;&nbsp;&nbsp;&nbsp;&nbsp;&nbsp;&nbsp;&nbsp;&nbsp;&nbsp;&nbsp;&nbsp;  1.000 <br>\n",
    "Q:  &nbsp;&nbsp;&nbsp;&nbsp;&nbsp;&nbsp;&nbsp;&nbsp;&nbsp;&nbsp;&nbsp;&nbsp;   0.000 <br>\n",
    "R:  &nbsp;&nbsp;&nbsp;&nbsp;&nbsp;&nbsp;&nbsp;&nbsp;&nbsp;&nbsp;&nbsp;&nbsp;   0.000 <br>\n",
    "S:  &nbsp;&nbsp;&nbsp;&nbsp;&nbsp;&nbsp;&nbsp;&nbsp;&nbsp;&nbsp;&nbsp;&nbsp;   2.000 <br>\n",
    "T:  &nbsp;&nbsp;&nbsp;&nbsp;&nbsp;&nbsp;&nbsp;&nbsp;&nbsp;               125.000 <br>\n",
    "U:  &nbsp;                                                           3903958.000 <br>\n",
    "V:  &nbsp;&nbsp;&nbsp;&nbsp;&nbsp;&nbsp;&nbsp;&nbsp;&nbsp;&nbsp;&nbsp;&nbsp;     0.000 <br>\n",
    "W:  &nbsp;&nbsp;&nbsp;&nbsp;&nbsp;&nbsp;&nbsp;&nbsp;&nbsp;&nbsp;&nbsp;     0.000 <br>\n",
    "X:  &nbsp;&nbsp;&nbsp;&nbsp;&nbsp;&nbsp;&nbsp;&nbsp;&nbsp;&nbsp;&nbsp;&nbsp;     0.000 <br>\n",
    "Y:  &nbsp;&nbsp;&nbsp;&nbsp;&nbsp;&nbsp;                                2036.000 <br>\n",
    "</table>\n",
    "A:\n",
    "<p>     0:&nbsp;&nbsp;&nbsp;&nbsp;&nbsp;     2500.036&nbsp;&nbsp;     2500.034&nbsp;&nbsp;     8575.004&nbsp;&nbsp;     8590.029&nbsp;&nbsp;     9090.041 </p>\n",
    "<p>     5:&nbsp;&nbsp;&nbsp;&nbsp;&nbsp;     9544.001&nbsp;&nbsp;     9599.036&nbsp;&nbsp;     9599.030&nbsp;&nbsp;     9604.001&nbsp;&nbsp;     9671.001&nbsp;&nbsp; </p>\n",
    "<p>    10:&nbsp;&nbsp;&nbsp;     9730.001&nbsp;&nbsp;     9792.001&nbsp;&nbsp;     9859.001&nbsp;&nbsp;     9924.001&nbsp;&nbsp;     9990.001 </p>\n",
    "<p>    15:&nbsp;    10054.001&nbsp;&nbsp;    10123.001&nbsp;&nbsp;    10194.001    10268.001    10341.001 </p>\n",
    "<p>    20:&nbsp;    10402.001&nbsp;&nbsp;    10473.001&nbsp;&nbsp;    16488.004    16503.029    17003.041 </p>\n",
    "   . <br>\n",
    "   . <br>\n",
    "   . <br>\n",
    "<p>  9485:        0.000&nbsp;&nbsp;        0.000&nbsp;&nbsp;        0.000&nbsp;&nbsp;        0.000&nbsp;&nbsp;        0.000 </p>\n",
    "<p>  9490:        0.000&nbsp;&nbsp;        0.000&nbsp;&nbsp;        0.000&nbsp;&nbsp;        0.000&nbsp;&nbsp;        0.000 </p>\n",
    "<p>  9495:        0.000&nbsp;&nbsp;        0.000&nbsp;&nbsp;        0.000&nbsp;&nbsp;        0.000&nbsp;&nbsp;        0.000 </p>\n",
    "<p>  9500:        0.000&nbsp;&nbsp; </p><br>\n",
    "B: <br>\n",
    "<p>     0:&nbsp;&nbsp;&nbsp;&nbsp;&nbsp;        0.000&nbsp;&nbsp;        0.000&nbsp;&nbsp;        0.000&nbsp;&nbsp;        0.000 </p>"
   ]
  },
  {
   "cell_type": "markdown",
   "metadata": {},
   "source": [
    "---\n",
    "To use MedParse, first import the functions."
   ]
  },
  {
   "cell_type": "code",
   "execution_count": 2,
   "metadata": {},
   "outputs": [],
   "source": [
    "import med_to_tec as med"
   ]
  },
  {
   "cell_type": "markdown",
   "metadata": {},
   "source": [
    "Then use the convert function to pull event codes from the MedPC file.  See the README/Template for more info."
   ]
  },
  {
   "cell_type": "code",
   "execution_count": 3,
   "metadata": {
    "scrolled": false
   },
   "outputs": [],
   "source": [
    "filename = \"ExampleFile1\"\n",
    "EventCodes = med.convert(filename)  "
   ]
  },
  {
   "cell_type": "markdown",
   "metadata": {},
   "source": [
    "Event codes come in as a regular python array. <br>The first number in each element is the time-stamp in seconds,\n",
    "the second number is the event code."
   ]
  },
  {
   "cell_type": "code",
   "execution_count": 6,
   "metadata": {},
   "outputs": [
    {
     "name": "stdout",
     "output_type": "stream",
     "text": [
      "[[5.0, 36], [5.0, 34], [17.15, 4], [17.18, 29], [18.18, 41], [19.088, 1], [19.198, 36], [19.198, 30], [19.208, 1], [19.342, 1]]\n"
     ]
    }
   ],
   "source": [
    "print(EventCodes[0:10]) #print the first ten elements"
   ]
  },
  {
   "cell_type": "markdown",
   "metadata": {},
   "source": [
    "You can change the output in med_to_tec.convert or change it after running the function."
   ]
  },
  {
   "cell_type": "code",
   "execution_count": 16,
   "metadata": {
    "scrolled": true
   },
   "outputs": [
    {
     "name": "stdout",
     "output_type": "stream",
     "text": [
      "[[ 5.    36.   ]\n",
      " [ 5.    34.   ]\n",
      " [17.15   4.   ]\n",
      " [17.18  29.   ]\n",
      " [18.18  41.   ]\n",
      " [19.088  1.   ]\n",
      " [19.198 36.   ]\n",
      " [19.198 30.   ]\n",
      " [19.208  1.   ]\n",
      " [19.342  1.   ]]\n"
     ]
    }
   ],
   "source": [
    "import numpy as np\n",
    "\n",
    "EventCodes = np.asarray(EventCodes)\n",
    "print(EventCodes[0:10])"
   ]
  },
  {
   "cell_type": "markdown",
   "metadata": {},
   "source": [
    "We recommend you write out all of your event codes as global variables for legibility."
   ]
  },
  {
   "cell_type": "code",
   "execution_count": 14,
   "metadata": {},
   "outputs": [],
   "source": [
    "Lick_code = 1\n",
    "Choice1 = 2\n",
    "Choice2 = 4\n",
    "Stimulus1_HI = 30\n",
    "Stimulus1_LO = 34\n",
    "Stimulus2_HI = 32\n",
    "Stimulus2_LO = 36\n",
    "Reward_Delivery = 41\n",
    "Switch_code = 12 \n",
    "Reward_Light_On = 29"
   ]
  },
  {
   "cell_type": "markdown",
   "metadata": {},
   "source": [
    "From there, you can then select specific subselections of the event codes and modify them as needed.\n",
    "For example, pull out all choices and modify the value of the event code to be binary, <br>\n",
    "0 for Choice 1 <br>\n",
    "1 for Choice 2"
   ]
  },
  {
   "cell_type": "code",
   "execution_count": 26,
   "metadata": {},
   "outputs": [],
   "source": [
    "choices = np.asarray([[val[0],val[1]-3] for (i,val) in enumerate(EventCodes) \n",
    "                      if (val[1] == Choice1) or (val[1] == Choice2)])"
   ]
  },
  {
   "cell_type": "code",
   "execution_count": 27,
   "metadata": {},
   "outputs": [
    {
     "name": "stdout",
     "output_type": "stream",
     "text": [
      "[[ 17.15    1.   ]\n",
      " [ 32.976   1.   ]\n",
      " [ 46.388  -1.   ]\n",
      " [ 56.12    1.   ]\n",
      " [ 68.73    1.   ]\n",
      " [ 76.97    1.   ]\n",
      " [ 91.468   1.   ]\n",
      " [100.43    1.   ]\n",
      " [107.952   1.   ]\n",
      " [115.398  -1.   ]]\n"
     ]
    }
   ],
   "source": [
    "print(choices[0:10])"
   ]
  },
  {
   "cell_type": "markdown",
   "metadata": {},
   "source": [
    "---"
   ]
  },
  {
   "cell_type": "code",
   "execution_count": 32,
   "metadata": {
    "scrolled": true
   },
   "outputs": [
    {
     "data": {
      "text/plain": [
       "<matplotlib.axes._subplots.AxesSubplot at 0x7fc19363ac88>"
      ]
     },
     "execution_count": 32,
     "metadata": {},
     "output_type": "execute_result"
    },
    {
     "data": {
      "image/png": "[encoded data removed]",
      "text/plain": [
       "<Figure size 432x288 with 1 Axes>"
      ]
     },
     "metadata": {
      "needs_background": "light"
     },
     "output_type": "display_data"
    }
   ],
   "source": [
    "# plot the choices in time\n",
    "\n",
    "import seaborn as sns\n",
    "\n",
    "sns.pointplot(x=choices[:,0], y = choices[:,1],join=False)"
   ]
  }
 ],
 "metadata": {
  "kernelspec": {
   "display_name": "Python 3",
   "language": "python",
   "name": "python3"
  },
  "language_info": {
   "codemirror_mode": {
    "name": "ipython",
    "version": 3
   },
   "file_extension": ".py",
   "mimetype": "text/x-python",
   "name": "python",
   "nbconvert_exporter": "python",
   "pygments_lexer": "ipython3",
   "version": "3.7.1"
  }
 },
 "nbformat": 4,
 "nbformat_minor": 2
}
